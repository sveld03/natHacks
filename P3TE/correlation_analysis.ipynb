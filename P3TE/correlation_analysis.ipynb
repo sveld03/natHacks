{
 "cells": [
  {
   "cell_type": "code",
   "execution_count": 95,
   "metadata": {},
   "outputs": [],
   "source": [
    "import numpy as np\n",
    "import pandas as pd\n",
    "import matplotlib.pyplot as plt\n",
    "import scipy.signal as sig"
   ]
  },
  {
   "cell_type": "markdown",
   "metadata": {},
   "source": [
    "Target: 6\n",
    "Probe: 3"
   ]
  },
  {
   "cell_type": "code",
   "execution_count": 76,
   "metadata": {},
   "outputs": [],
   "source": [
    "ds1 = pd.read_csv(\"P3TE/loading_data/data_faces_target_6_10t_29i_l3.csv\")\n",
    "labs1 = np.loadtxt(\"P3TE/loading_data/labels_faces_target_6_10t_29i_l3.csv\",\n",
    "                   delimiter=',',\n",
    "                   dtype='int')"
   ]
  },
  {
   "cell_type": "code",
   "execution_count": 80,
   "metadata": {},
   "outputs": [],
   "source": [
    "ds2 = pd.read_csv(\"P3Te/loading_data/data_faces_target_6_30t_10i_l3.csv\")\n",
    "labs2 = np.loadtxt(\"P3TE/loading_data/labels_faces_target_6_30t_10i_l3.csv\",\n",
    "                   delimiter=',', dtype='int')"
   ]
  },
  {
   "cell_type": "code",
   "execution_count": 82,
   "metadata": {},
   "outputs": [],
   "source": [
    "ds3 = pd.read_csv(\"P3TE/loading_data/data_faces_target_6_30t_10i_no_click_l3.csv\")\n",
    "labs3 = np.loadtxt(\"P3TE/loading_data/labels_faces_target_6_30t_10i_no_click_l3.csv\",\n",
    "                   delimiter=',', dtype='int')"
   ]
  },
  {
   "cell_type": "code",
   "execution_count": 84,
   "metadata": {},
   "outputs": [],
   "source": [
    "rm0102 = ['channel1',\n",
    "          'channel2',\n",
    "          'channel3',\n",
    "          'channel4',\n",
    "          'channel5',\n",
    "          'channel6']"
   ]
  },
  {
   "cell_type": "code",
   "execution_count": 100,
   "metadata": {},
   "outputs": [],
   "source": [
    "bpfilt = sig.butter(4, (1, 12.5), 'bandpass', output='sos', fs=250)"
   ]
  },
  {
   "cell_type": "code",
   "execution_count": 155,
   "metadata": {},
   "outputs": [],
   "source": [
    "def create_lab_data(ds, labs, channels):\n",
    "    # get trigger col\n",
    "    ds_trigger = ds['Trigger'].values\n",
    "\n",
    "    # get image events\n",
    "    img_starts = []\n",
    "    for i in range(len(ds_trigger) - 1):\n",
    "        if (ds_trigger[i] == 0) and (ds_trigger[i+1] == 1):\n",
    "            img_starts.append(i+1)\n",
    "    img_starts = np.array(img_starts)\n",
    "    \n",
    "    filt_sigs = []\n",
    "    for i in channels:\n",
    "        filt_sigs.append(sig.sosfilt(bpfilt, ds[i]))\n",
    "    filt_sigs = np.array(filt_sigs)\n",
    "\n",
    "    # get EEG values averaged across channels (without O1 and O2)\n",
    "    channel_avg_eeg = []\n",
    "    for i in img_starts:\n",
    "        img_obs = filt_sigs[:,i:i+250].mean(axis=0)\n",
    "        channel_avg_eeg.append(img_obs)\n",
    "    channel_avg_eeg = np.array(channel_avg_eeg)\n",
    "\n",
    "    # create labeled data\n",
    "    eeg_img_ds = pd.DataFrame(channel_avg_eeg, columns=list(range(250)))\n",
    "    eeg_img_ds['image'] = labs\n",
    "\n",
    "    return eeg_img_ds"
   ]
  },
  {
   "cell_type": "code",
   "execution_count": 160,
   "metadata": {},
   "outputs": [],
   "source": [
    "X1 = create_lab_data(ds1, labs1, ['channel4'])\n",
    "X2 = create_lab_data(ds2, labs2, ['channel4'])\n",
    "X3 = create_lab_data(ds3, labs3, ['channel4'])"
   ]
  },
  {
   "cell_type": "code",
   "execution_count": 346,
   "metadata": {},
   "outputs": [],
   "source": [
    "X = pd.concat([X1, X2, X3], ignore_index=True, axis=0)"
   ]
  },
  {
   "cell_type": "markdown",
   "metadata": {},
   "source": [
    "## Bootstrapping"
   ]
  },
  {
   "cell_type": "markdown",
   "metadata": {},
   "source": [
    "### Probe, Test, Irrelevant (PTI) Paradigm"
   ]
  },
  {
   "cell_type": "code",
   "execution_count": 269,
   "metadata": {},
   "outputs": [
    {
     "name": "stdout",
     "output_type": "stream",
     "text": [
      "0 8\n",
      "1 9\n",
      "2 1\n",
      "4 2\n",
      "5 4\n",
      "6 46\n",
      "7 10\n",
      "8 0\n"
     ]
    }
   ],
   "source": [
    "test_targets = [0, 1, 2, 4, 5, 6, 7, 8]\n",
    "\n",
    "for j in test_targets:\n",
    "    X_target = X.iloc[np.where(X['image'] == 3)]\n",
    "    X_probe = X.iloc[np.where(X['image'] == j)]\n",
    "\n",
    "    tester = np.arange(len(X))\n",
    "    tps = np.concatenate((np.where(X['image'] == j), np.where(X['image'] == 3))).flatten()\n",
    "    xirr_inds = np.delete(tester, tps)\n",
    "    X_irr = X.iloc[xirr_inds]\n",
    "\n",
    "    bootstrap_index = 0\n",
    "    for i in range(100):\n",
    "        target_inds = np.random.choice(np.arange(len(X_target)), 50, replace=False)\n",
    "        probe_inds = np.random.choice(np.arange(len(X_probe)), 50, replace=False)\n",
    "        irr_inds = np.random.choice(np.arange(len(X_irr)), 50, replace=False)\n",
    "\n",
    "        xtd = X_target.loc[:,X_target.columns != 'image']\n",
    "        xpd = X_probe.loc[:,X_probe.columns != 'image']\n",
    "        xid = X_irr.loc[:,X_irr.columns != 'image']\n",
    "\n",
    "        Xtsamp = xtd.iloc[target_inds]\n",
    "        Xpsamp = xpd.iloc[probe_inds]\n",
    "        Xisamp = xid.iloc[irr_inds]\n",
    "\n",
    "        Xtot = pd.concat([Xtsamp, Xpsamp, Xisamp], ignore_index=True, axis=0)\n",
    "        xtotbar = Xtot.mean(axis=0)\n",
    "\n",
    "        xtargetbar_dc = Xtsamp.mean(axis=0) - xtotbar\n",
    "        xprobebar_dc = Xpsamp.mean(axis=0) - xtotbar\n",
    "        xirrbar_dc = Xisamp.mean(axis=0) - xtotbar\n",
    "\n",
    "        dc_corr_PT = np.corrcoef(xprobebar_dc, xtargetbar_dc)[0,1]\n",
    "        dc_corr_PI = np.corrcoef(xprobebar_dc, xirrbar_dc)[0,1]\n",
    "\n",
    "        bootstrap_index += (dc_corr_PT > dc_corr_PI)\n",
    "\n",
    "    print(j, bootstrap_index)"
   ]
  },
  {
   "cell_type": "markdown",
   "metadata": {},
   "source": [
    "### One-versus all BCD (no target)"
   ]
  },
  {
   "cell_type": "code",
   "execution_count": 347,
   "metadata": {},
   "outputs": [],
   "source": [
    "X_no_img = X.loc[:,X.columns != 'image']"
   ]
  },
  {
   "cell_type": "code",
   "execution_count": 424,
   "metadata": {},
   "outputs": [],
   "source": [
    "test_imgs = [0, 1, 2, 3, 4, 5, 7, 8]\n",
    "bootstrap_results = []\n",
    "\n",
    "for ti in test_imgs:\n",
    "    X_test = X_no_img.iloc[np.where(X['image'] == ti)]\n",
    "    X_others = X_no_img.iloc[np.where(X['image'] != ti)]\n",
    "\n",
    "    bootstrap_vals = []\n",
    "\n",
    "    for i in range(100):\n",
    "        test_samp_ids = np.random.choice(np.arange(len(X_test)), 50, replace=False)\n",
    "        other_samps_ids = np.random.choice(np.arange(len(X_others)), 50, replace=False)\n",
    "\n",
    "        X_test_samp = X_test.iloc[test_samp_ids].mean(axis=0)\n",
    "        X_other_samp = X_others.iloc[other_samps_ids].mean(axis=0)\n",
    "\n",
    "        dc_corr = np.corrcoef(X_test_samp, X_other_samp)[0,1]\n",
    "        bootstrap_vals.append(dc_corr)\n",
    "\n",
    "    bootstrap_results.append(bootstrap_vals)\n",
    "\n",
    "bootstrap_results = np.array(bootstrap_results)"
   ]
  },
  {
   "cell_type": "code",
   "execution_count": 425,
   "metadata": {},
   "outputs": [
    {
     "data": {
      "text/plain": [
       "array([0.45746836, 0.44693047, 0.23817556, 0.25345613, 0.42987614,\n",
       "       0.20955645, 0.41382129, 0.49854638])"
      ]
     },
     "execution_count": 425,
     "metadata": {},
     "output_type": "execute_result"
    }
   ],
   "source": [
    "bootstrap_results.mean(axis=1)"
   ]
  },
  {
   "cell_type": "markdown",
   "metadata": {},
   "source": [
    "## Load new data"
   ]
  },
  {
   "cell_type": "code",
   "execution_count": null,
   "metadata": {},
   "outputs": [],
   "source": [
    "ds1 = pd.read_csv(\"P3TE/loading_data/data_probe_4_15t_15i_5s_davis.csv\")\n",
    "labs1 = np.loadtxt(\"P3TE/loading_data/labels_probe_4_15t_15i_5s_davis.csv\",\n",
    "                   delimter=',',\n",
    "                   dtype='int')"
   ]
  }
 ],
 "metadata": {
  "kernelspec": {
   "display_name": "base",
   "language": "python",
   "name": "python3"
  },
  "language_info": {
   "codemirror_mode": {
    "name": "ipython",
    "version": 3
   },
   "file_extension": ".py",
   "mimetype": "text/x-python",
   "name": "python",
   "nbconvert_exporter": "python",
   "pygments_lexer": "ipython3",
   "version": "3.10.9"
  }
 },
 "nbformat": 4,
 "nbformat_minor": 2
}
